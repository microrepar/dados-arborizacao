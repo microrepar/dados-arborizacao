{
 "cells": [
  {
   "cell_type": "markdown",
   "metadata": {},
   "source": [
    "## unificacao_bases_mogi_conecta\n",
    "\n",
    "Ações - mapeamentos e cruzamentos com Mogi Conecta\n",
    "\n",
    "### Data Sources\n",
    "- file1 : Description of where this file came from\n",
    "\n",
    "### Changes\n",
    "- 06-16-2023 : Started project"
   ]
  },
  {
   "cell_type": "code",
   "execution_count": 57,
   "metadata": {},
   "outputs": [],
   "source": [
    "import json\n",
    "from datetime import datetime\n",
    "from pathlib import Path\n",
    "\n",
    "import pandas as pd"
   ]
  },
  {
   "cell_type": "markdown",
   "metadata": {},
   "source": [
    "### File Locations"
   ]
  },
  {
   "cell_type": "code",
   "execution_count": 58,
   "metadata": {},
   "outputs": [],
   "source": [
    "today = datetime.today()\n",
    "in_file = Path.cwd() / \"abairramento.geojson\"\n",
    "result_file = Path.cwd() / \"abairramento.parquet\""
   ]
  },
  {
   "cell_type": "code",
   "execution_count": 59,
   "metadata": {},
   "outputs": [],
   "source": [
    "# Lendo o arquivo .geojson\n",
    "with open('abairramento.geojson') as f:\n",
    "    data = json.load(f)\n",
    "\n",
    "# Acessando os dados do arquivo\n",
    "df_normalized = pd.json_normalize(data['features'])\n",
    "\n",
    "# Convertendo os dados normalizados em um dataframe\n",
    "df = pd.DataFrame(df_normalized)"
   ]
  },
  {
   "cell_type": "markdown",
   "metadata": {},
   "source": [
    "### Column Cleanup\n",
    "\n",
    "- Remove all leading and trailing spaces\n",
    "- Rename the columns for consistency."
   ]
  },
  {
   "cell_type": "code",
   "execution_count": 60,
   "metadata": {},
   "outputs": [],
   "source": [
    "# https://stackoverflow.com/questions/30763351/removing-space-in-dataframe-python\n",
    "df.columns = [x.strip() for x in df.columns]"
   ]
  },
  {
   "cell_type": "code",
   "execution_count": 61,
   "metadata": {},
   "outputs": [
    {
     "data": {
      "text/plain": [
       "{'type': '',\n",
       " 'properties.Name': '',\n",
       " 'properties.description': '',\n",
       " 'properties.timestamp': '',\n",
       " 'properties.begin': '',\n",
       " 'properties.end': '',\n",
       " 'properties.altitudeMode': '',\n",
       " 'properties.tessellate': '',\n",
       " 'properties.extrude': '',\n",
       " 'properties.visibility': '',\n",
       " 'properties.drawOrder': '',\n",
       " 'properties.icon': '',\n",
       " 'properties.NOME': '',\n",
       " 'properties.DISTRITO': '',\n",
       " 'properties.NUMERO': '',\n",
       " 'geometry.type': '',\n",
       " 'geometry.coordinates': ''}"
      ]
     },
     "execution_count": 61,
     "metadata": {},
     "output_type": "execute_result"
    }
   ],
   "source": [
    "{col: '' for col in df.columns}"
   ]
  },
  {
   "cell_type": "code",
   "execution_count": 62,
   "metadata": {},
   "outputs": [],
   "source": [
    "cols_to_rename = {\n",
    "    'properties.NOME'         : 'nome',\n",
    "    'properties.DISTRITO'     : 'distrito',\n",
    "    'properties.NUMERO'       : 'numero',\n",
    "    'geometry.coordinates'    : 'coordenadas'\n",
    " }\n",
    "df.rename(columns=cols_to_rename, inplace=True)"
   ]
  },
  {
   "cell_type": "code",
   "execution_count": 63,
   "metadata": {},
   "outputs": [
    {
     "data": {
      "text/plain": [
       "Index(['type', 'properties.Name', 'properties.description',\n",
       "       'properties.timestamp', 'properties.begin', 'properties.end',\n",
       "       'properties.altitudeMode', 'properties.tessellate',\n",
       "       'properties.extrude', 'properties.visibility', 'properties.drawOrder',\n",
       "       'properties.icon', 'nome', 'distrito', 'numero', 'geometry.type',\n",
       "       'coordenadas'],\n",
       "      dtype='object')"
      ]
     },
     "execution_count": 63,
     "metadata": {},
     "output_type": "execute_result"
    }
   ],
   "source": [
    "df.columns"
   ]
  },
  {
   "cell_type": "markdown",
   "metadata": {},
   "source": [
    "### Clean Up Data Types"
   ]
  },
  {
   "cell_type": "code",
   "execution_count": 64,
   "metadata": {},
   "outputs": [
    {
     "data": {
      "text/plain": [
       "type                       object\n",
       "properties.Name            object\n",
       "properties.description     object\n",
       "properties.timestamp       object\n",
       "properties.begin           object\n",
       "properties.end             object\n",
       "properties.altitudeMode    object\n",
       "properties.tessellate       int64\n",
       "properties.extrude          int64\n",
       "properties.visibility       int64\n",
       "properties.drawOrder       object\n",
       "properties.icon            object\n",
       "nome                       object\n",
       "distrito                   object\n",
       "numero                     object\n",
       "geometry.type              object\n",
       "coordenadas                object\n",
       "dtype: object"
      ]
     },
     "execution_count": 64,
     "metadata": {},
     "output_type": "execute_result"
    }
   ],
   "source": [
    "df.dtypes"
   ]
  },
  {
   "cell_type": "markdown",
   "metadata": {},
   "source": [
    "### Data Manipulation"
   ]
  },
  {
   "cell_type": "code",
   "execution_count": 65,
   "metadata": {},
   "outputs": [
    {
     "data": {
      "text/plain": [
       "Index(['type', 'properties.Name', 'properties.description',\n",
       "       'properties.timestamp', 'properties.begin', 'properties.end',\n",
       "       'properties.altitudeMode', 'properties.tessellate',\n",
       "       'properties.extrude', 'properties.visibility', 'properties.drawOrder',\n",
       "       'properties.icon', 'nome', 'distrito', 'numero', 'geometry.type',\n",
       "       'coordenadas', 'latitude_media', 'longitude_media', 'geometry_width',\n",
       "       'geometry_height'],\n",
       "      dtype='object')"
      ]
     },
     "execution_count": 65,
     "metadata": {},
     "output_type": "execute_result"
    }
   ],
   "source": [
    "# Função para calcular a média da latitude e longitude\n",
    "def calcular_media(valores):\n",
    "    latitudes = [coord[1] for coord in valores[0][0]]\n",
    "    longitudes = [coord[0] for coord in valores[0][0]]\n",
    "    \n",
    "    # Calcula a extensão geográfica\n",
    "    min_lat, max_lat = min(latitudes), max(latitudes)\n",
    "    min_lon, max_lon = min(longitudes), max(longitudes)\n",
    "\n",
    "    # Calcula a média das latitudes e longitudes\n",
    "    latitude_media = (min_lat + max_lat) / 2\n",
    "    longitude_media = (min_lon + max_lon) / 2\n",
    "\n",
    "    # Calcula a extensão (largura e altura) da geometria selecionada\n",
    "    geometry_height = float(format(max_lat - min_lat, '.7f'))\n",
    "    geometry_width = float(format(max_lon - min_lon, '.7f'))\n",
    "\n",
    "\n",
    "\n",
    "\n",
    "    return pd.Series({\n",
    "        'latitude_media': latitude_media, 'longitude_media': longitude_media,\n",
    "        'geometry_width': geometry_width, 'geometry_height': geometry_height,\n",
    "    })\n",
    "\n",
    "# Aplicar a função e adicionar novas colunas\n",
    "df[['latitude_media', 'longitude_media', 'geometry_width', 'geometry_height']] = df['coordenadas'].apply(calcular_media)\n",
    "df.columns"
   ]
  },
  {
   "cell_type": "code",
   "execution_count": 66,
   "metadata": {},
   "outputs": [],
   "source": [
    "df = df.sort_values('nome')"
   ]
  },
  {
   "cell_type": "code",
   "execution_count": 67,
   "metadata": {},
   "outputs": [
    {
     "data": {
      "text/html": [
       "<div>\n",
       "<style scoped>\n",
       "    .dataframe tbody tr th:only-of-type {\n",
       "        vertical-align: middle;\n",
       "    }\n",
       "\n",
       "    .dataframe tbody tr th {\n",
       "        vertical-align: top;\n",
       "    }\n",
       "\n",
       "    .dataframe thead th {\n",
       "        text-align: right;\n",
       "    }\n",
       "</style>\n",
       "<table border=\"1\" class=\"dataframe\">\n",
       "  <thead>\n",
       "    <tr style=\"text-align: right;\">\n",
       "      <th></th>\n",
       "      <th>nome</th>\n",
       "      <th>distrito</th>\n",
       "      <th>latitude_media</th>\n",
       "      <th>longitude_media</th>\n",
       "      <th>geometry_width</th>\n",
       "      <th>geometry_height</th>\n",
       "    </tr>\n",
       "  </thead>\n",
       "  <tbody>\n",
       "    <tr>\n",
       "      <th>11</th>\n",
       "      <td>ALTO DO IPIRANGA</td>\n",
       "      <td>DISTRITO SEDE</td>\n",
       "      <td>-23.538357</td>\n",
       "      <td>-46.202279</td>\n",
       "      <td>0.009936</td>\n",
       "      <td>0.019483</td>\n",
       "    </tr>\n",
       "    <tr>\n",
       "      <th>38</th>\n",
       "      <td>ARUA</td>\n",
       "      <td>DISTRITO ALTO DO PARATEI</td>\n",
       "      <td>-23.473431</td>\n",
       "      <td>-46.261070</td>\n",
       "      <td>0.025324</td>\n",
       "      <td>0.031087</td>\n",
       "    </tr>\n",
       "    <tr>\n",
       "      <th>66</th>\n",
       "      <td>BARROSO</td>\n",
       "      <td>DISTRITO DE QUATINGA</td>\n",
       "      <td>-23.692141</td>\n",
       "      <td>-46.221106</td>\n",
       "      <td>0.047840</td>\n",
       "      <td>0.049611</td>\n",
       "    </tr>\n",
       "    <tr>\n",
       "      <th>84</th>\n",
       "      <td>BEIJA FLOR</td>\n",
       "      <td>DISTRITO DO TABOAO</td>\n",
       "      <td>-23.423249</td>\n",
       "      <td>-46.150231</td>\n",
       "      <td>0.086244</td>\n",
       "      <td>0.073808</td>\n",
       "    </tr>\n",
       "    <tr>\n",
       "      <th>51</th>\n",
       "      <td>BELLA CITTA</td>\n",
       "      <td>DISTRITO SEDE</td>\n",
       "      <td>-23.493731</td>\n",
       "      <td>-46.175116</td>\n",
       "      <td>0.012077</td>\n",
       "      <td>0.018817</td>\n",
       "    </tr>\n",
       "    <tr>\n",
       "      <th>...</th>\n",
       "      <td>...</td>\n",
       "      <td>...</td>\n",
       "      <td>...</td>\n",
       "      <td>...</td>\n",
       "      <td>...</td>\n",
       "      <td>...</td>\n",
       "    </tr>\n",
       "    <tr>\n",
       "      <th>67</th>\n",
       "      <td>VL. RUBENS</td>\n",
       "      <td>DISTRITO SEDE</td>\n",
       "      <td>-23.529978</td>\n",
       "      <td>-46.212143</td>\n",
       "      <td>0.017799</td>\n",
       "      <td>0.011392</td>\n",
       "    </tr>\n",
       "    <tr>\n",
       "      <th>46</th>\n",
       "      <td>VL. SAO FRANCISCO</td>\n",
       "      <td>DISTRITO BRAZ CUBAS</td>\n",
       "      <td>-23.524402</td>\n",
       "      <td>-46.217133</td>\n",
       "      <td>0.024571</td>\n",
       "      <td>0.021170</td>\n",
       "    </tr>\n",
       "    <tr>\n",
       "      <th>102</th>\n",
       "      <td>VL. SAO SEBASTIAO</td>\n",
       "      <td>DISTRITO SEDE</td>\n",
       "      <td>-23.551294</td>\n",
       "      <td>-46.198654</td>\n",
       "      <td>0.010217</td>\n",
       "      <td>0.010294</td>\n",
       "    </tr>\n",
       "    <tr>\n",
       "      <th>68</th>\n",
       "      <td>VL. SUISSA</td>\n",
       "      <td>DISTRITO DE CEZAR DE SOUZA</td>\n",
       "      <td>-23.497694</td>\n",
       "      <td>-46.150890</td>\n",
       "      <td>0.023873</td>\n",
       "      <td>0.015217</td>\n",
       "    </tr>\n",
       "    <tr>\n",
       "      <th>60</th>\n",
       "      <td>VL.CINTRA</td>\n",
       "      <td>DISTRITO BRAZ CUBAS</td>\n",
       "      <td>-23.547667</td>\n",
       "      <td>-46.232326</td>\n",
       "      <td>0.016217</td>\n",
       "      <td>0.019907</td>\n",
       "    </tr>\n",
       "  </tbody>\n",
       "</table>\n",
       "<p>107 rows × 6 columns</p>\n",
       "</div>"
      ],
      "text/plain": [
       "                  nome                    distrito  latitude_media  \\\n",
       "11    ALTO DO IPIRANGA               DISTRITO SEDE      -23.538357   \n",
       "38                ARUA    DISTRITO ALTO DO PARATEI      -23.473431   \n",
       "66             BARROSO        DISTRITO DE QUATINGA      -23.692141   \n",
       "84          BEIJA FLOR          DISTRITO DO TABOAO      -23.423249   \n",
       "51         BELLA CITTA               DISTRITO SEDE      -23.493731   \n",
       "..                 ...                         ...             ...   \n",
       "67          VL. RUBENS               DISTRITO SEDE      -23.529978   \n",
       "46   VL. SAO FRANCISCO         DISTRITO BRAZ CUBAS      -23.524402   \n",
       "102  VL. SAO SEBASTIAO               DISTRITO SEDE      -23.551294   \n",
       "68          VL. SUISSA  DISTRITO DE CEZAR DE SOUZA      -23.497694   \n",
       "60           VL.CINTRA         DISTRITO BRAZ CUBAS      -23.547667   \n",
       "\n",
       "     longitude_media  geometry_width  geometry_height  \n",
       "11        -46.202279        0.009936         0.019483  \n",
       "38        -46.261070        0.025324         0.031087  \n",
       "66        -46.221106        0.047840         0.049611  \n",
       "84        -46.150231        0.086244         0.073808  \n",
       "51        -46.175116        0.012077         0.018817  \n",
       "..               ...             ...              ...  \n",
       "67        -46.212143        0.017799         0.011392  \n",
       "46        -46.217133        0.024571         0.021170  \n",
       "102       -46.198654        0.010217         0.010294  \n",
       "68        -46.150890        0.023873         0.015217  \n",
       "60        -46.232326        0.016217         0.019907  \n",
       "\n",
       "[107 rows x 6 columns]"
      ]
     },
     "execution_count": 67,
     "metadata": {},
     "output_type": "execute_result"
    }
   ],
   "source": [
    "df[['nome', 'distrito', 'latitude_media', 'longitude_media', 'geometry_width', 'geometry_height']]"
   ]
  },
  {
   "cell_type": "markdown",
   "metadata": {},
   "source": [
    "### Save output file into processed directory\n",
    "\n",
    "Save a file in the processed directory that is cleaned properly. It will be read in and used later for further analysis.\n",
    "\n",
    "Other options besides pickle include:\n",
    "- feather\n",
    "- msgpack\n",
    "- parquet"
   ]
  },
  {
   "cell_type": "code",
   "execution_count": 68,
   "metadata": {},
   "outputs": [],
   "source": [
    "df.to_parquet(result_file)"
   ]
  }
 ],
 "metadata": {
  "kernelspec": {
   "display_name": "base",
   "language": "python",
   "name": "python3"
  },
  "language_info": {
   "codemirror_mode": {
    "name": "ipython",
    "version": 3
   },
   "file_extension": ".py",
   "mimetype": "text/x-python",
   "name": "python",
   "nbconvert_exporter": "python",
   "pygments_lexer": "ipython3",
   "version": "3.10.9"
  },
  "vscode": {
   "interpreter": {
    "hash": "3c06e3e46abf38078fe4dac36a0085ec2b134ebbd73dd076183d243eeca6918f"
   }
  }
 },
 "nbformat": 4,
 "nbformat_minor": 1
}
